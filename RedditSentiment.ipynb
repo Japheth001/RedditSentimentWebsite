{
  "nbformat": 4,
  "nbformat_minor": 0,
  "metadata": {
    "colab": {
      "name": "RedditSentiment.ipynb",
      "provenance": [],
      "include_colab_link": true
    },
    "kernelspec": {
      "name": "python3",
      "display_name": "Python 3"
    }
  },
  "cells": [
    {
      "cell_type": "markdown",
      "metadata": {
        "id": "view-in-github",
        "colab_type": "text"
      },
      "source": [
        "<a href=\"https://colab.research.google.com/github/Japheth001/RedditSentimentWebsite/blob/main/RedditSentiment.ipynb\" target=\"_parent\"><img src=\"https://colab.research.google.com/assets/colab-badge.svg\" alt=\"Open In Colab\"/></a>"
      ]
    },
    {
      "cell_type": "markdown",
      "metadata": {
        "id": "b457c2QEIf-6"
      },
      "source": [
        "# Reddit Sentiment Analysis!"
      ]
    },
    {
      "cell_type": "code",
      "source": [
        "from google.colab import drive\n",
        "drive.mount('/content/drive')"
      ],
      "metadata": {
        "id": "bMRf39iA9jF-",
        "outputId": "8e430b30-da0e-48f1-ca7d-23cdff39663a",
        "colab": {
          "base_uri": "https://localhost:8080/"
        }
      },
      "execution_count": 35,
      "outputs": [
        {
          "output_type": "stream",
          "name": "stdout",
          "text": [
            "Mounted at /content/drive\n"
          ]
        }
      ]
    },
    {
      "cell_type": "code",
      "metadata": {
        "colab": {
          "base_uri": "https://localhost:8080/"
        },
        "id": "T4Y4aLBB8EGk",
        "outputId": "953e851f-bf1d-48da-e87a-67eb9a34db97"
      },
      "source": [
        "from IPython import display  # control displaying of printed output in loops\n",
        "from pprint import pprint  # pretty print json and lists\n",
        "import pandas as pd\n",
        "import numpy as np\n",
        "import nltk\n",
        "import matplotlib.pyplot as plt\n",
        "import seaborn as sns\n",
        "!pip install praw\n",
        "import praw"
      ],
      "execution_count": 1,
      "outputs": [
        {
          "output_type": "stream",
          "name": "stdout",
          "text": [
            "Collecting praw\n",
            "  Downloading praw-7.8.1-py3-none-any.whl.metadata (9.4 kB)\n",
            "Collecting prawcore<3,>=2.4 (from praw)\n",
            "  Downloading prawcore-2.4.0-py3-none-any.whl.metadata (5.0 kB)\n",
            "Collecting update_checker>=0.18 (from praw)\n",
            "  Downloading update_checker-0.18.0-py3-none-any.whl.metadata (2.3 kB)\n",
            "Requirement already satisfied: websocket-client>=0.54.0 in /usr/local/lib/python3.12/dist-packages (from praw) (1.8.0)\n",
            "Requirement already satisfied: requests<3.0,>=2.6.0 in /usr/local/lib/python3.12/dist-packages (from prawcore<3,>=2.4->praw) (2.32.4)\n",
            "Requirement already satisfied: charset_normalizer<4,>=2 in /usr/local/lib/python3.12/dist-packages (from requests<3.0,>=2.6.0->prawcore<3,>=2.4->praw) (3.4.3)\n",
            "Requirement already satisfied: idna<4,>=2.5 in /usr/local/lib/python3.12/dist-packages (from requests<3.0,>=2.6.0->prawcore<3,>=2.4->praw) (3.10)\n",
            "Requirement already satisfied: urllib3<3,>=1.21.1 in /usr/local/lib/python3.12/dist-packages (from requests<3.0,>=2.6.0->prawcore<3,>=2.4->praw) (2.5.0)\n",
            "Requirement already satisfied: certifi>=2017.4.17 in /usr/local/lib/python3.12/dist-packages (from requests<3.0,>=2.6.0->prawcore<3,>=2.4->praw) (2025.8.3)\n",
            "Downloading praw-7.8.1-py3-none-any.whl (189 kB)\n",
            "\u001b[2K   \u001b[90m━━━━━━━━━━━━━━━━━━━━━━━━━━━━━━━━━━━━━━━━\u001b[0m \u001b[32m189.3/189.3 kB\u001b[0m \u001b[31m9.1 MB/s\u001b[0m eta \u001b[36m0:00:00\u001b[0m\n",
            "\u001b[?25hDownloading prawcore-2.4.0-py3-none-any.whl (17 kB)\n",
            "Downloading update_checker-0.18.0-py3-none-any.whl (7.0 kB)\n",
            "Installing collected packages: update_checker, prawcore, praw\n",
            "Successfully installed praw-7.8.1 prawcore-2.4.0 update_checker-0.18.0\n"
          ]
        }
      ]
    },
    {
      "cell_type": "code",
      "metadata": {
        "colab": {
          "base_uri": "https://localhost:8080/"
        },
        "id": "K1hZpf2i8Zwm",
        "outputId": "445ab3ec-5ba5-404a-a151-2b3866cf4e50"
      },
      "source": [
        "nltk.download('vader_lexicon')"
      ],
      "execution_count": 2,
      "outputs": [
        {
          "output_type": "stream",
          "name": "stderr",
          "text": [
            "[nltk_data] Downloading package vader_lexicon to /root/nltk_data...\n"
          ]
        },
        {
          "output_type": "execute_result",
          "data": {
            "text/plain": [
              "True"
            ]
          },
          "metadata": {},
          "execution_count": 2
        }
      ]
    },
    {
      "cell_type": "markdown",
      "metadata": {
        "id": "MzeGsbTrIkI2"
      },
      "source": [
        "## Exploring the Reddit API using PRAW"
      ]
    },
    {
      "cell_type": "markdown",
      "metadata": {
        "id": "bD11pM1p-M1E"
      },
      "source": [
        "Access the Reddit API. This allows you to easilly acess data from Reddit. To do this go to https://www.reddit.com/prefs/apps/."
      ]
    },
    {
      "cell_type": "code",
      "metadata": {
        "id": "VCrvjelK8_Kf"
      },
      "source": [
        "reddit = praw.Reddit(client_id='Cvu8zva7-vmcWJZQ3GWLQw',\n",
        "                     client_secret='ax30Yo8NBEyOmF9jX21owCPiAo1BHA',\n",
        "                     user_agent='health_narrative_research',\n",
        "                     username='<your user_name')"
      ],
      "execution_count": 3,
      "outputs": []
    },
    {
      "cell_type": "code",
      "metadata": {
        "colab": {
          "base_uri": "https://localhost:8080/"
        },
        "id": "RnC0rmmcFQBU",
        "outputId": "16a21cc0-d4f0-4891-8d31-541c88b2a7e0"
      },
      "source": [
        "# subreddit1 = reddit.subreddits.search_by_name('datascience', exact=True)  returns a list of search results\n",
        "subreddit_name = 'depression'\n",
        "subreddit = reddit.subreddit(subreddit_name)\n",
        "print(\"Display Name:\")\n",
        "print(subreddit.display_name)\n",
        "print()\n",
        "print(\"Title:\")\n",
        "print(subreddit.title)\n",
        "print()\n",
        "print(\"Description\")\n",
        "print(subreddit.description)"
      ],
      "execution_count": 4,
      "outputs": [
        {
          "output_type": "stream",
          "name": "stderr",
          "text": [
            "WARNING:praw:It appears that you are using PRAW in an asynchronous environment.\n",
            "It is strongly recommended to use Async PRAW: https://asyncpraw.readthedocs.io.\n",
            "See https://praw.readthedocs.io/en/latest/getting_started/multiple_instances.html#discord-bots-and-asynchronous-environments for more info.\n",
            "\n"
          ]
        },
        {
          "output_type": "stream",
          "name": "stdout",
          "text": [
            "Display Name:\n",
            "depression\n",
            "\n",
            "Title:\n",
            "/r/depression, because nobody should be alone in a dark place\n",
            "\n",
            "Description\n",
            "###Community Basics\n",
            "\n",
            "We offer a [peer-support](https://www.reddit.com/r/depression/wiki/giving_help) space for anyone dealing with a depressive disorder in themselves or someone close to them.\n",
            "\n",
            "[Please stay on topic](https://www.reddit.com/r/depression/wiki/what_is_depression). Depression is both important and difficult to talk about so focus is essential. Posts here need to be support requests specifically related to depression, and comments need to be supportive of the OP.\n",
            "\n",
            "If you want to talk about thoughts or risk of suicide, please post at /r/SuicideWatch. If you've lost someone to suicide, /r/SuicideBereavement is the best community to get support.\n",
            "\n",
            "It might seem that we have a lot of rules, but we've found they're all necessary to maintain as much emotional and physical safety as possible. Most people are surprised by at least some of our policies so please [read all of them carefully](https://www.reddit.com/r/depression/about/rules) before jumping in.\n",
            "\n",
            "Please click \"report\" to let us know of any inappropriate content you see here - we'd like to know and handle it as soon as we can.\n",
            "\n",
            "If your post or comment is not appearing, it may have been removed for a rule violation or it may be stuck in the filter. Please message us and we'll look into it.\n",
            "\n",
            "We are not a crisis service. We can't guarantee an immediate response, and there are times when this subreddit is relatively quiet. This does not mean no one cares. If you need to talk to someone at once, you may want to [take a look at the hotlines list from /r/SuicideWatch](http://www.reddit.com/r/SuicideWatch/wiki/hotlines)\n"
          ]
        }
      ]
    },
    {
      "cell_type": "code",
      "metadata": {
        "colab": {
          "base_uri": "https://localhost:8080/"
        },
        "id": "4bJJQ4n4-Skx",
        "outputId": "e8287c08-1f68-4221-e605-fe7517d08c81"
      },
      "source": [
        "posts = set()  # use a set to clear any duplicates\n",
        "for post in subreddit.new(limit=None):\n",
        "  posts.add(post)\n",
        "  display.clear_output()  # only one output that changes\n",
        "  print(len(posts))\n",
        "posts = list(posts)  # easier to work with lists"
      ],
      "execution_count": 5,
      "outputs": [
        {
          "output_type": "stream",
          "name": "stdout",
          "text": [
            "988\n"
          ]
        }
      ]
    },
    {
      "cell_type": "code",
      "metadata": {
        "colab": {
          "base_uri": "https://localhost:8080/"
        },
        "id": "L8ScY3aqCJ2Y",
        "outputId": "545b43de-11d7-4e7c-8976-2f4d3d7fedaf"
      },
      "source": [
        "post = posts[7]\n",
        "print(post.title)\n",
        "print(post.author)\n",
        "print(post.score)\n",
        "print(post.id)\n",
        "print(post.url)"
      ],
      "execution_count": 23,
      "outputs": [
        {
          "output_type": "stream",
          "name": "stdout",
          "text": [
            "Living with my toxic parents\n",
            "Fluid_Valuable5337\n",
            "3\n",
            "1nkvjmj\n",
            "https://www.reddit.com/r/depression/comments/1nkvjmj/living_with_my_toxic_parents/\n"
          ]
        }
      ]
    },
    {
      "cell_type": "markdown",
      "metadata": {
        "id": "SskqNtQmdrzH"
      },
      "source": [
        "Using the Reddit API, we can also explore comments. Maybe we can make a model that looks at comments as well as titles?"
      ]
    },
    {
      "cell_type": "code",
      "metadata": {
        "id": "q7RN6nTtdzd9",
        "colab": {
          "base_uri": "https://localhost:8080/",
          "height": 315
        },
        "outputId": "a2649307-e9b6-4ed2-dff1-55c2966fbdad"
      },
      "source": [
        "# this creates a list of comments from the post we already defined\n",
        "comments = list(post.comments)\n",
        "# pprint(vars(comments[7]))  # gives us variables for comment\n",
        "print('Post Title:', post.title)\n",
        "print()\n",
        "print('Comment: ', comments[7].body)\n",
        "print()\n",
        "print('Comment Author: ', comments[7].author)\n",
        "print('Score: ', comments[7].score)  # would be nice to have model weigh this too"
      ],
      "execution_count": 24,
      "outputs": [
        {
          "output_type": "stream",
          "name": "stderr",
          "text": [
            "WARNING:praw:It appears that you are using PRAW in an asynchronous environment.\n",
            "It is strongly recommended to use Async PRAW: https://asyncpraw.readthedocs.io.\n",
            "See https://praw.readthedocs.io/en/latest/getting_started/multiple_instances.html#discord-bots-and-asynchronous-environments for more info.\n",
            "\n"
          ]
        },
        {
          "output_type": "stream",
          "name": "stdout",
          "text": [
            "Post Title: Living with my toxic parents\n",
            "\n"
          ]
        },
        {
          "output_type": "error",
          "ename": "IndexError",
          "evalue": "list index out of range",
          "traceback": [
            "\u001b[0;31m---------------------------------------------------------------------------\u001b[0m",
            "\u001b[0;31mIndexError\u001b[0m                                Traceback (most recent call last)",
            "\u001b[0;32m/tmp/ipython-input-56792889.py\u001b[0m in \u001b[0;36m<cell line: 0>\u001b[0;34m()\u001b[0m\n\u001b[1;32m      4\u001b[0m \u001b[0mprint\u001b[0m\u001b[0;34m(\u001b[0m\u001b[0;34m'Post Title:'\u001b[0m\u001b[0;34m,\u001b[0m \u001b[0mpost\u001b[0m\u001b[0;34m.\u001b[0m\u001b[0mtitle\u001b[0m\u001b[0;34m)\u001b[0m\u001b[0;34m\u001b[0m\u001b[0;34m\u001b[0m\u001b[0m\n\u001b[1;32m      5\u001b[0m \u001b[0mprint\u001b[0m\u001b[0;34m(\u001b[0m\u001b[0;34m)\u001b[0m\u001b[0;34m\u001b[0m\u001b[0;34m\u001b[0m\u001b[0m\n\u001b[0;32m----> 6\u001b[0;31m \u001b[0mprint\u001b[0m\u001b[0;34m(\u001b[0m\u001b[0;34m'Comment: '\u001b[0m\u001b[0;34m,\u001b[0m \u001b[0mcomments\u001b[0m\u001b[0;34m[\u001b[0m\u001b[0;36m7\u001b[0m\u001b[0;34m]\u001b[0m\u001b[0;34m.\u001b[0m\u001b[0mbody\u001b[0m\u001b[0;34m)\u001b[0m\u001b[0;34m\u001b[0m\u001b[0;34m\u001b[0m\u001b[0m\n\u001b[0m\u001b[1;32m      7\u001b[0m \u001b[0mprint\u001b[0m\u001b[0;34m(\u001b[0m\u001b[0;34m)\u001b[0m\u001b[0;34m\u001b[0m\u001b[0;34m\u001b[0m\u001b[0m\n\u001b[1;32m      8\u001b[0m \u001b[0mprint\u001b[0m\u001b[0;34m(\u001b[0m\u001b[0;34m'Comment Author: '\u001b[0m\u001b[0;34m,\u001b[0m \u001b[0mcomments\u001b[0m\u001b[0;34m[\u001b[0m\u001b[0;36m7\u001b[0m\u001b[0;34m]\u001b[0m\u001b[0;34m.\u001b[0m\u001b[0mauthor\u001b[0m\u001b[0;34m)\u001b[0m\u001b[0;34m\u001b[0m\u001b[0;34m\u001b[0m\u001b[0m\n",
            "\u001b[0;31mIndexError\u001b[0m: list index out of range"
          ]
        }
      ]
    },
    {
      "cell_type": "markdown",
      "metadata": {
        "id": "NsXhLQnQIoz0"
      },
      "source": [
        "## Basic Sentiment Analysis Using Pretrained Models\n"
      ]
    },
    {
      "cell_type": "markdown",
      "metadata": {
        "id": "uMG0DhInVLz9"
      },
      "source": [
        "For now, we will explore various pretrained models that detect negative and positive sentiment. Alternativley, we could train our own model using a dataset and sklearn. However, these pretrained models actually perform pretty well."
      ]
    },
    {
      "cell_type": "markdown",
      "metadata": {
        "id": "7obsCCBQb9oZ"
      },
      "source": [
        "The main model that we are using is vader from nltk. This model has been pretrained specifically for social media text. A detailed paper describing the model can be found at https://www.researchgate.net/publication/275828927_VADER_A_Parsimonious_Rule-based_Model_for_Sentiment_Analysis_of_Social_Media_Text."
      ]
    },
    {
      "cell_type": "markdown",
      "metadata": {
        "id": "J9QabdFhLaxn"
      },
      "source": [
        "Code for other models is commented out because we are not using them. You can uncomment to explore them though."
      ]
    },
    {
      "cell_type": "code",
      "metadata": {
        "id": "NPV6VqnJTQoS"
      },
      "source": [
        "from nltk.sentiment.vader import SentimentIntensityAnalyzer as SIA\n",
        "sia = SIA()\n",
        "# from textblob import TextBlob\n",
        "# !pip install flair\n",
        "# import flair\n",
        "# flair_sentiment = flair.models.TextClassifier.load('en-sentiment')"
      ],
      "execution_count": 25,
      "outputs": []
    },
    {
      "cell_type": "code",
      "metadata": {
        "id": "3Fx_Qjw8TTcA",
        "colab": {
          "base_uri": "https://localhost:8080/"
        },
        "outputId": "b7ae2894-394a-4711-dc6f-6be7c9763d66"
      },
      "source": [
        "sentence = \"This food was great but the service was only okay\"\n",
        "print(\"NLTK VADER\")\n",
        "print(sia.polarity_scores(sentence))\n",
        "# print()\n",
        "# print(\"Text Blob:\")\n",
        "# print(TextBlob(sentence).sentiment)\n",
        "# print()\n",
        "# print(\"Flair:\")\n",
        "# s = flair.data.Sentence(sentence)\n",
        "# flair_sentiment.predict(s)\n",
        "# total_sentiment = s.labels\n",
        "# print(total_sentiment)"
      ],
      "execution_count": 26,
      "outputs": [
        {
          "output_type": "stream",
          "name": "stdout",
          "text": [
            "NLTK VADER\n",
            "{'neg': 0.0, 'neu': 0.62, 'pos': 0.38, 'compound': 0.5994}\n"
          ]
        }
      ]
    },
    {
      "cell_type": "code",
      "metadata": {
        "id": "3eslGmTm-7By",
        "colab": {
          "base_uri": "https://localhost:8080/"
        },
        "outputId": "4f0bd3da-13f9-45f6-8bac-2668ee0d5b31"
      },
      "source": [
        "results = list()\n",
        "\n",
        "for post in posts:\n",
        "    pol_score = sia.polarity_scores(post.title)\n",
        "    pol_score['headline'] = post.title\n",
        "    results.append(pol_score)\n",
        "\n",
        "pprint(results[:3], width=100)  # pretty print"
      ],
      "execution_count": 27,
      "outputs": [
        {
          "output_type": "stream",
          "name": "stdout",
          "text": [
            "[{'compound': -0.553,\n",
            "  'headline': 'I really want to die right now',\n",
            "  'neg': 0.427,\n",
            "  'neu': 0.41,\n",
            "  'pos': 0.163},\n",
            " {'compound': -0.2732,\n",
            "  'headline': 'Masturbation Causes Drop In Mood',\n",
            "  'neg': 0.344,\n",
            "  'neu': 0.656,\n",
            "  'pos': 0.0},\n",
            " {'compound': 0.0,\n",
            "  'headline': 'Has therapy or meds helped you guys?',\n",
            "  'neg': 0.0,\n",
            "  'neu': 1.0,\n",
            "  'pos': 0.0}]\n"
          ]
        }
      ]
    },
    {
      "cell_type": "markdown",
      "metadata": {
        "id": "ZybOo6M-LoB0"
      },
      "source": [
        "Now we will store the data as a pandas dataframe. We will create a new column, 'label', that will store if the headline is positive (1), neutral (0), or negative (-1). We have used 0.2 and -0.2 as our thresholds but this can be altered (giving us different results)."
      ]
    },
    {
      "cell_type": "code",
      "metadata": {
        "id": "h4A_SvUX_78G",
        "colab": {
          "base_uri": "https://localhost:8080/",
          "height": 363
        },
        "outputId": "00e298f4-275f-4673-93ba-fa0b0ac8e891"
      },
      "source": [
        "df = pd.DataFrame.from_records(results)\n",
        "sorted_df = df.sort_values(by='compound')\n",
        "df['label'] = 0  # creates label column\n",
        "df.loc[df['compound'] > 0.2, 'label'] = 1  # if compound score is greater than 0.2 we label it as positive\n",
        "df.loc[df['compound'] < -0.2, 'label'] = -1  # if compound score is less than -0.2 we label it as positive\n",
        "df.sample(n=10,axis='rows')  # prints 10 random items from the dataframe"
      ],
      "execution_count": 28,
      "outputs": [
        {
          "output_type": "execute_result",
          "data": {
            "text/plain": [
              "       neg    neu    pos  compound  \\\n",
              "186  0.529  0.471  0.000   -0.6705   \n",
              "736  0.560  0.119  0.321   -0.2500   \n",
              "842  0.286  0.390  0.325    0.0772   \n",
              "237  0.404  0.596  0.000   -0.5256   \n",
              "952  0.000  1.000  0.000    0.0000   \n",
              "15   0.000  1.000  0.000    0.0000   \n",
              "769  0.688  0.312  0.000   -0.2960   \n",
              "308  0.756  0.244  0.000   -0.7351   \n",
              "362  0.234  0.766  0.000   -0.0572   \n",
              "246  0.382  0.618  0.000   -0.7777   \n",
              "\n",
              "                                              headline  label  \n",
              "186                           My gf is always suicidal     -1  \n",
              "736                     No support - unbearably lonely     -1  \n",
              "842                   I feel like im missing something      0  \n",
              "237                           I am so ashamed of my CV     -1  \n",
              "952                                            I can’t      0  \n",
              "15                                                PHQ9      0  \n",
              "769                                          No choice     -1  \n",
              "308                   Avoid self destructive behaviour     -1  \n",
              "362                        I dont want to live anymore      0  \n",
              "246  What a waste of life it has been....just putti...     -1  "
            ],
            "text/html": [
              "\n",
              "  <div id=\"df-503b9def-f54c-47b9-b91e-447fdcd5c77f\" class=\"colab-df-container\">\n",
              "    <div>\n",
              "<style scoped>\n",
              "    .dataframe tbody tr th:only-of-type {\n",
              "        vertical-align: middle;\n",
              "    }\n",
              "\n",
              "    .dataframe tbody tr th {\n",
              "        vertical-align: top;\n",
              "    }\n",
              "\n",
              "    .dataframe thead th {\n",
              "        text-align: right;\n",
              "    }\n",
              "</style>\n",
              "<table border=\"1\" class=\"dataframe\">\n",
              "  <thead>\n",
              "    <tr style=\"text-align: right;\">\n",
              "      <th></th>\n",
              "      <th>neg</th>\n",
              "      <th>neu</th>\n",
              "      <th>pos</th>\n",
              "      <th>compound</th>\n",
              "      <th>headline</th>\n",
              "      <th>label</th>\n",
              "    </tr>\n",
              "  </thead>\n",
              "  <tbody>\n",
              "    <tr>\n",
              "      <th>186</th>\n",
              "      <td>0.529</td>\n",
              "      <td>0.471</td>\n",
              "      <td>0.000</td>\n",
              "      <td>-0.6705</td>\n",
              "      <td>My gf is always suicidal</td>\n",
              "      <td>-1</td>\n",
              "    </tr>\n",
              "    <tr>\n",
              "      <th>736</th>\n",
              "      <td>0.560</td>\n",
              "      <td>0.119</td>\n",
              "      <td>0.321</td>\n",
              "      <td>-0.2500</td>\n",
              "      <td>No support - unbearably lonely</td>\n",
              "      <td>-1</td>\n",
              "    </tr>\n",
              "    <tr>\n",
              "      <th>842</th>\n",
              "      <td>0.286</td>\n",
              "      <td>0.390</td>\n",
              "      <td>0.325</td>\n",
              "      <td>0.0772</td>\n",
              "      <td>I feel like im missing something</td>\n",
              "      <td>0</td>\n",
              "    </tr>\n",
              "    <tr>\n",
              "      <th>237</th>\n",
              "      <td>0.404</td>\n",
              "      <td>0.596</td>\n",
              "      <td>0.000</td>\n",
              "      <td>-0.5256</td>\n",
              "      <td>I am so ashamed of my CV</td>\n",
              "      <td>-1</td>\n",
              "    </tr>\n",
              "    <tr>\n",
              "      <th>952</th>\n",
              "      <td>0.000</td>\n",
              "      <td>1.000</td>\n",
              "      <td>0.000</td>\n",
              "      <td>0.0000</td>\n",
              "      <td>I can’t</td>\n",
              "      <td>0</td>\n",
              "    </tr>\n",
              "    <tr>\n",
              "      <th>15</th>\n",
              "      <td>0.000</td>\n",
              "      <td>1.000</td>\n",
              "      <td>0.000</td>\n",
              "      <td>0.0000</td>\n",
              "      <td>PHQ9</td>\n",
              "      <td>0</td>\n",
              "    </tr>\n",
              "    <tr>\n",
              "      <th>769</th>\n",
              "      <td>0.688</td>\n",
              "      <td>0.312</td>\n",
              "      <td>0.000</td>\n",
              "      <td>-0.2960</td>\n",
              "      <td>No choice</td>\n",
              "      <td>-1</td>\n",
              "    </tr>\n",
              "    <tr>\n",
              "      <th>308</th>\n",
              "      <td>0.756</td>\n",
              "      <td>0.244</td>\n",
              "      <td>0.000</td>\n",
              "      <td>-0.7351</td>\n",
              "      <td>Avoid self destructive behaviour</td>\n",
              "      <td>-1</td>\n",
              "    </tr>\n",
              "    <tr>\n",
              "      <th>362</th>\n",
              "      <td>0.234</td>\n",
              "      <td>0.766</td>\n",
              "      <td>0.000</td>\n",
              "      <td>-0.0572</td>\n",
              "      <td>I dont want to live anymore</td>\n",
              "      <td>0</td>\n",
              "    </tr>\n",
              "    <tr>\n",
              "      <th>246</th>\n",
              "      <td>0.382</td>\n",
              "      <td>0.618</td>\n",
              "      <td>0.000</td>\n",
              "      <td>-0.7777</td>\n",
              "      <td>What a waste of life it has been....just putti...</td>\n",
              "      <td>-1</td>\n",
              "    </tr>\n",
              "  </tbody>\n",
              "</table>\n",
              "</div>\n",
              "    <div class=\"colab-df-buttons\">\n",
              "\n",
              "  <div class=\"colab-df-container\">\n",
              "    <button class=\"colab-df-convert\" onclick=\"convertToInteractive('df-503b9def-f54c-47b9-b91e-447fdcd5c77f')\"\n",
              "            title=\"Convert this dataframe to an interactive table.\"\n",
              "            style=\"display:none;\">\n",
              "\n",
              "  <svg xmlns=\"http://www.w3.org/2000/svg\" height=\"24px\" viewBox=\"0 -960 960 960\">\n",
              "    <path d=\"M120-120v-720h720v720H120Zm60-500h600v-160H180v160Zm220 220h160v-160H400v160Zm0 220h160v-160H400v160ZM180-400h160v-160H180v160Zm440 0h160v-160H620v160ZM180-180h160v-160H180v160Zm440 0h160v-160H620v160Z\"/>\n",
              "  </svg>\n",
              "    </button>\n",
              "\n",
              "  <style>\n",
              "    .colab-df-container {\n",
              "      display:flex;\n",
              "      gap: 12px;\n",
              "    }\n",
              "\n",
              "    .colab-df-convert {\n",
              "      background-color: #E8F0FE;\n",
              "      border: none;\n",
              "      border-radius: 50%;\n",
              "      cursor: pointer;\n",
              "      display: none;\n",
              "      fill: #1967D2;\n",
              "      height: 32px;\n",
              "      padding: 0 0 0 0;\n",
              "      width: 32px;\n",
              "    }\n",
              "\n",
              "    .colab-df-convert:hover {\n",
              "      background-color: #E2EBFA;\n",
              "      box-shadow: 0px 1px 2px rgba(60, 64, 67, 0.3), 0px 1px 3px 1px rgba(60, 64, 67, 0.15);\n",
              "      fill: #174EA6;\n",
              "    }\n",
              "\n",
              "    .colab-df-buttons div {\n",
              "      margin-bottom: 4px;\n",
              "    }\n",
              "\n",
              "    [theme=dark] .colab-df-convert {\n",
              "      background-color: #3B4455;\n",
              "      fill: #D2E3FC;\n",
              "    }\n",
              "\n",
              "    [theme=dark] .colab-df-convert:hover {\n",
              "      background-color: #434B5C;\n",
              "      box-shadow: 0px 1px 3px 1px rgba(0, 0, 0, 0.15);\n",
              "      filter: drop-shadow(0px 1px 2px rgba(0, 0, 0, 0.3));\n",
              "      fill: #FFFFFF;\n",
              "    }\n",
              "  </style>\n",
              "\n",
              "    <script>\n",
              "      const buttonEl =\n",
              "        document.querySelector('#df-503b9def-f54c-47b9-b91e-447fdcd5c77f button.colab-df-convert');\n",
              "      buttonEl.style.display =\n",
              "        google.colab.kernel.accessAllowed ? 'block' : 'none';\n",
              "\n",
              "      async function convertToInteractive(key) {\n",
              "        const element = document.querySelector('#df-503b9def-f54c-47b9-b91e-447fdcd5c77f');\n",
              "        const dataTable =\n",
              "          await google.colab.kernel.invokeFunction('convertToInteractive',\n",
              "                                                    [key], {});\n",
              "        if (!dataTable) return;\n",
              "\n",
              "        const docLinkHtml = 'Like what you see? Visit the ' +\n",
              "          '<a target=\"_blank\" href=https://colab.research.google.com/notebooks/data_table.ipynb>data table notebook</a>'\n",
              "          + ' to learn more about interactive tables.';\n",
              "        element.innerHTML = '';\n",
              "        dataTable['output_type'] = 'display_data';\n",
              "        await google.colab.output.renderOutput(dataTable, element);\n",
              "        const docLink = document.createElement('div');\n",
              "        docLink.innerHTML = docLinkHtml;\n",
              "        element.appendChild(docLink);\n",
              "      }\n",
              "    </script>\n",
              "  </div>\n",
              "\n",
              "\n",
              "    <div id=\"df-97fe6a26-e92f-4f1b-abf7-cc469a2294a1\">\n",
              "      <button class=\"colab-df-quickchart\" onclick=\"quickchart('df-97fe6a26-e92f-4f1b-abf7-cc469a2294a1')\"\n",
              "                title=\"Suggest charts\"\n",
              "                style=\"display:none;\">\n",
              "\n",
              "<svg xmlns=\"http://www.w3.org/2000/svg\" height=\"24px\"viewBox=\"0 0 24 24\"\n",
              "     width=\"24px\">\n",
              "    <g>\n",
              "        <path d=\"M19 3H5c-1.1 0-2 .9-2 2v14c0 1.1.9 2 2 2h14c1.1 0 2-.9 2-2V5c0-1.1-.9-2-2-2zM9 17H7v-7h2v7zm4 0h-2V7h2v10zm4 0h-2v-4h2v4z\"/>\n",
              "    </g>\n",
              "</svg>\n",
              "      </button>\n",
              "\n",
              "<style>\n",
              "  .colab-df-quickchart {\n",
              "      --bg-color: #E8F0FE;\n",
              "      --fill-color: #1967D2;\n",
              "      --hover-bg-color: #E2EBFA;\n",
              "      --hover-fill-color: #174EA6;\n",
              "      --disabled-fill-color: #AAA;\n",
              "      --disabled-bg-color: #DDD;\n",
              "  }\n",
              "\n",
              "  [theme=dark] .colab-df-quickchart {\n",
              "      --bg-color: #3B4455;\n",
              "      --fill-color: #D2E3FC;\n",
              "      --hover-bg-color: #434B5C;\n",
              "      --hover-fill-color: #FFFFFF;\n",
              "      --disabled-bg-color: #3B4455;\n",
              "      --disabled-fill-color: #666;\n",
              "  }\n",
              "\n",
              "  .colab-df-quickchart {\n",
              "    background-color: var(--bg-color);\n",
              "    border: none;\n",
              "    border-radius: 50%;\n",
              "    cursor: pointer;\n",
              "    display: none;\n",
              "    fill: var(--fill-color);\n",
              "    height: 32px;\n",
              "    padding: 0;\n",
              "    width: 32px;\n",
              "  }\n",
              "\n",
              "  .colab-df-quickchart:hover {\n",
              "    background-color: var(--hover-bg-color);\n",
              "    box-shadow: 0 1px 2px rgba(60, 64, 67, 0.3), 0 1px 3px 1px rgba(60, 64, 67, 0.15);\n",
              "    fill: var(--button-hover-fill-color);\n",
              "  }\n",
              "\n",
              "  .colab-df-quickchart-complete:disabled,\n",
              "  .colab-df-quickchart-complete:disabled:hover {\n",
              "    background-color: var(--disabled-bg-color);\n",
              "    fill: var(--disabled-fill-color);\n",
              "    box-shadow: none;\n",
              "  }\n",
              "\n",
              "  .colab-df-spinner {\n",
              "    border: 2px solid var(--fill-color);\n",
              "    border-color: transparent;\n",
              "    border-bottom-color: var(--fill-color);\n",
              "    animation:\n",
              "      spin 1s steps(1) infinite;\n",
              "  }\n",
              "\n",
              "  @keyframes spin {\n",
              "    0% {\n",
              "      border-color: transparent;\n",
              "      border-bottom-color: var(--fill-color);\n",
              "      border-left-color: var(--fill-color);\n",
              "    }\n",
              "    20% {\n",
              "      border-color: transparent;\n",
              "      border-left-color: var(--fill-color);\n",
              "      border-top-color: var(--fill-color);\n",
              "    }\n",
              "    30% {\n",
              "      border-color: transparent;\n",
              "      border-left-color: var(--fill-color);\n",
              "      border-top-color: var(--fill-color);\n",
              "      border-right-color: var(--fill-color);\n",
              "    }\n",
              "    40% {\n",
              "      border-color: transparent;\n",
              "      border-right-color: var(--fill-color);\n",
              "      border-top-color: var(--fill-color);\n",
              "    }\n",
              "    60% {\n",
              "      border-color: transparent;\n",
              "      border-right-color: var(--fill-color);\n",
              "    }\n",
              "    80% {\n",
              "      border-color: transparent;\n",
              "      border-right-color: var(--fill-color);\n",
              "      border-bottom-color: var(--fill-color);\n",
              "    }\n",
              "    90% {\n",
              "      border-color: transparent;\n",
              "      border-bottom-color: var(--fill-color);\n",
              "    }\n",
              "  }\n",
              "</style>\n",
              "\n",
              "      <script>\n",
              "        async function quickchart(key) {\n",
              "          const quickchartButtonEl =\n",
              "            document.querySelector('#' + key + ' button');\n",
              "          quickchartButtonEl.disabled = true;  // To prevent multiple clicks.\n",
              "          quickchartButtonEl.classList.add('colab-df-spinner');\n",
              "          try {\n",
              "            const charts = await google.colab.kernel.invokeFunction(\n",
              "                'suggestCharts', [key], {});\n",
              "          } catch (error) {\n",
              "            console.error('Error during call to suggestCharts:', error);\n",
              "          }\n",
              "          quickchartButtonEl.classList.remove('colab-df-spinner');\n",
              "          quickchartButtonEl.classList.add('colab-df-quickchart-complete');\n",
              "        }\n",
              "        (() => {\n",
              "          let quickchartButtonEl =\n",
              "            document.querySelector('#df-97fe6a26-e92f-4f1b-abf7-cc469a2294a1 button');\n",
              "          quickchartButtonEl.style.display =\n",
              "            google.colab.kernel.accessAllowed ? 'block' : 'none';\n",
              "        })();\n",
              "      </script>\n",
              "    </div>\n",
              "\n",
              "    </div>\n",
              "  </div>\n"
            ],
            "application/vnd.google.colaboratory.intrinsic+json": {
              "type": "dataframe",
              "summary": "{\n  \"name\": \"df\",\n  \"rows\": 10,\n  \"fields\": [\n    {\n      \"column\": \"neg\",\n      \"properties\": {\n        \"dtype\": \"number\",\n        \"std\": 0.260388790508006,\n        \"min\": 0.0,\n        \"max\": 0.756,\n        \"num_unique_values\": 9,\n        \"samples\": [\n          0.234,\n          0.56,\n          0.688\n        ],\n        \"semantic_type\": \"\",\n        \"description\": \"\"\n      }\n    },\n    {\n      \"column\": \"neu\",\n      \"properties\": {\n        \"dtype\": \"number\",\n        \"std\": 0.3029947560969038,\n        \"min\": 0.119,\n        \"max\": 1.0,\n        \"num_unique_values\": 9,\n        \"samples\": [\n          0.766,\n          0.119,\n          0.312\n        ],\n        \"semantic_type\": \"\",\n        \"description\": \"\"\n      }\n    },\n    {\n      \"column\": \"pos\",\n      \"properties\": {\n        \"dtype\": \"number\",\n        \"std\": 0.13619202130325653,\n        \"min\": 0.0,\n        \"max\": 0.325,\n        \"num_unique_values\": 3,\n        \"samples\": [\n          0.0,\n          0.321,\n          0.325\n        ],\n        \"semantic_type\": \"\",\n        \"description\": \"\"\n      }\n    },\n    {\n      \"column\": \"compound\",\n      \"properties\": {\n        \"dtype\": \"number\",\n        \"std\": 0.3306399164247011,\n        \"min\": -0.7777,\n        \"max\": 0.0772,\n        \"num_unique_values\": 9,\n        \"samples\": [\n          -0.0572,\n          -0.25,\n          -0.296\n        ],\n        \"semantic_type\": \"\",\n        \"description\": \"\"\n      }\n    },\n    {\n      \"column\": \"headline\",\n      \"properties\": {\n        \"dtype\": \"string\",\n        \"num_unique_values\": 10,\n        \"samples\": [\n          \"I dont want to live anymore\",\n          \"No support - unbearably lonely\",\n          \"PHQ9\"\n        ],\n        \"semantic_type\": \"\",\n        \"description\": \"\"\n      }\n    },\n    {\n      \"column\": \"label\",\n      \"properties\": {\n        \"dtype\": \"number\",\n        \"std\": 0,\n        \"min\": -1,\n        \"max\": 0,\n        \"num_unique_values\": 2,\n        \"samples\": [\n          0,\n          -1\n        ],\n        \"semantic_type\": \"\",\n        \"description\": \"\"\n      }\n    }\n  ]\n}"
            }
          },
          "metadata": {},
          "execution_count": 28
        }
      ]
    },
    {
      "cell_type": "markdown",
      "metadata": {
        "id": "Hwigf8cYIyeQ"
      },
      "source": [
        "Now that we have our results, we can save them in a csv file!"
      ]
    },
    {
      "cell_type": "code",
      "metadata": {
        "id": "mKpGjehm-rDW"
      },
      "source": [
        "df.to_csv('{}_sentiment'.format(subreddit_name))"
      ],
      "execution_count": 29,
      "outputs": []
    },
    {
      "cell_type": "markdown",
      "metadata": {
        "id": "KDe78KTW-ykQ"
      },
      "source": [
        "The below code clearly shows the analysis of a subreddit."
      ]
    },
    {
      "cell_type": "code",
      "metadata": {
        "id": "HljLKTcKHxZL",
        "colab": {
          "base_uri": "https://localhost:8080/"
        },
        "outputId": "6b472a9a-6b16-4290-ba27-f21962f89c7b"
      },
      "source": [
        "percentages = df.label.value_counts(normalize=True) * 100\n",
        "for key in percentages.keys():\n",
        "    if key == -1:\n",
        "        percentages['Negative'] = percentages[key]\n",
        "        del percentages[key]\n",
        "    if key == 0:\n",
        "        percentages['Neutral'] = percentages[key]\n",
        "        del percentages[key]\n",
        "    if key == 1:\n",
        "        percentages['Positive'] = percentages[key]\n",
        "        del percentages[key]\n",
        "print(percentages)"
      ],
      "execution_count": 30,
      "outputs": [
        {
          "output_type": "stream",
          "name": "stdout",
          "text": [
            "label\n",
            "Negative    47.874494\n",
            "Neutral     35.931174\n",
            "Positive    16.194332\n",
            "Name: proportion, dtype: float64\n"
          ]
        }
      ]
    },
    {
      "cell_type": "markdown",
      "metadata": {
        "id": "awbBITlWI4B_"
      },
      "source": [
        "## Exploring Our Results"
      ]
    },
    {
      "cell_type": "markdown",
      "metadata": {
        "id": "y6Y4XEgLMDLj"
      },
      "source": [
        "We can explore the most positive and negative headlines using the below code."
      ]
    },
    {
      "cell_type": "code",
      "metadata": {
        "id": "0xIALNGr7SM1",
        "colab": {
          "base_uri": "https://localhost:8080/"
        },
        "outputId": "c12d3a36-55f4-4c9c-8f54-0fff41f850c3"
      },
      "source": [
        "sorted_df = df.sort_values(by='compound')\n",
        "print('Five Most Positive Titles:')\n",
        "for headline in list(sorted_df.tail(5)['headline']):\n",
        "  print(headline)\n",
        "print()\n",
        "print('Five Most Negative Titles:')\n",
        "for headline in list(sorted_df.head(5)['headline']):\n",
        "  print(headline)\n"
      ],
      "execution_count": 31,
      "outputs": [
        {
          "output_type": "stream",
          "name": "stdout",
          "text": [
            "Five Most Positive Titles:\n",
            "I wish dying was easy and painless\n",
            "hi everyone. please if anyone can read this and help me it would be great. this is my last cry for help. im sorry for making it long.\n",
            "Vicious cycle of ambition but no view of success and happiness\n",
            "Sometimes I feel like giving up is better than challenging my parents on my career\n",
            "Resources to help my partner understand how to best support me when I need to talk about my feelings?\n",
            "\n",
            "Five Most Negative Titles:\n",
            "fuck fuck fuck fuck all of you I hate everyone so much\n",
            "I want to commit suicide but it will destroy my dad’s cancer treatment.\n",
            "i hate that i can’t kill myself (because it will destroy my Mother and i just can’t do that to her)\n",
            "I suffer from Severe Depression and get constantly mocked by others\n",
            "I’m just so sick of fighting the bad feelings.\n"
          ]
        }
      ]
    },
    {
      "cell_type": "markdown",
      "metadata": {
        "id": "gfNPwecTMr5H"
      },
      "source": [
        "This code will print the first five negative results and the first five positive results. These do not take into account how positive or negative that they are."
      ]
    },
    {
      "cell_type": "code",
      "metadata": {
        "id": "ZcXJMJu_JaYf",
        "colab": {
          "base_uri": "https://localhost:8080/"
        },
        "outputId": "aaad0c46-f152-4e47-d775-5c4ba38c4c34"
      },
      "source": [
        "positive_results = df[df['label'] == 1]\n",
        "negative_results = df[df['label'] == -1]\n",
        "print(\"Postitive Results:\")\n",
        "pprint(list(positive_results['headline'])[:5])\n",
        "print()\n",
        "print(\"Negative Results:\")\n",
        "pprint(list(negative_results['headline'])[:5])"
      ],
      "execution_count": 32,
      "outputs": [
        {
          "output_type": "stream",
          "name": "stdout",
          "text": [
            "Postitive Results:\n",
            "['Resources to help my partner understand how to best support me when I need '\n",
            " 'to talk about my feelings?',\n",
            " \"I was 'invited' to a party, but left on read when I asked what time it \"\n",
            " \"started, so I didn't go.\",\n",
            " 'Help?',\n",
            " 'After 4 years off my meds and everything seeming to get better I find myself '\n",
            " 'back in the hole.',\n",
            " 'The hardest part of saying \"I love you\"']\n",
            "\n",
            "Negative Results:\n",
            "['I really want to die right now',\n",
            " 'Masturbation Causes Drop In Mood',\n",
            " 'How to deal with suicide ideation?',\n",
            " 'I want to commit suicide',\n",
            " 'Sad Sunday’s']\n"
          ]
        }
      ]
    },
    {
      "cell_type": "markdown",
      "metadata": {
        "id": "paV_vrAvdfvq"
      },
      "source": [
        "Now we can determine the overall sentiment of a subreddit by creating percentages of positive, neutral, and negative headlines."
      ]
    },
    {
      "cell_type": "code",
      "metadata": {
        "id": "Tuel0lDlKUnh",
        "colab": {
          "base_uri": "https://localhost:8080/"
        },
        "outputId": "40dffee5-6ea5-40eb-b590-cc73b387f05d"
      },
      "source": [
        "percentages = df.label.value_counts(normalize=True) * 100\n",
        "print(\"Count:\")\n",
        "print(df.label.value_counts())\n",
        "print()\n",
        "print(\"Percentages:\")\n",
        "print(percentages)"
      ],
      "execution_count": 33,
      "outputs": [
        {
          "output_type": "stream",
          "name": "stdout",
          "text": [
            "Count:\n",
            "label\n",
            "-1    473\n",
            " 0    355\n",
            " 1    160\n",
            "Name: count, dtype: int64\n",
            "\n",
            "Percentages:\n",
            "label\n",
            "-1    47.874494\n",
            " 0    35.931174\n",
            " 1    16.194332\n",
            "Name: proportion, dtype: float64\n"
          ]
        }
      ]
    },
    {
      "cell_type": "markdown",
      "metadata": {
        "id": "mCH-ngEsdmbE"
      },
      "source": [
        "The below code lets us visualize the above results."
      ]
    },
    {
      "cell_type": "code",
      "metadata": {
        "id": "H74CRUr-Ktpy",
        "colab": {
          "base_uri": "https://localhost:8080/",
          "height": 470
        },
        "outputId": "d6233751-6378-4bca-ddfb-b9f09f2f5699"
      },
      "source": [
        "sns.barplot(x=percentages.index, y=percentages)\n",
        "plt.xlabel = ['Negative', 'Nuetral', 'Positive']\n",
        "plt.plot()"
      ],
      "execution_count": 34,
      "outputs": [
        {
          "output_type": "execute_result",
          "data": {
            "text/plain": [
              "[]"
            ]
          },
          "metadata": {},
          "execution_count": 34
        },
        {
          "output_type": "display_data",
          "data": {
            "text/plain": [
              "<Figure size 640x480 with 1 Axes>"
            ],
            "image/png": "[encoded data removed]"
          },
          "metadata": {}
        }
      ]
    },
    {
      "cell_type": "markdown",
      "metadata": {
        "id": "PbNe5RYMeVQZ"
      },
      "source": [
        "## Future Model Improvement"
      ]
    },
    {
      "cell_type": "markdown",
      "metadata": {
        "id": "ue6mdh9zeawh"
      },
      "source": [
        "We classified a subreddit's sentiment soley based on the titles of its top posts. Maybe we can look at more data such as comments and upvotes. Using this same idea, we may also be able to make a more practical model, such as a fake news or hate speech detector. This would involve using different models and potentially needing training data."
      ]
    },
    {
      "cell_type": "markdown",
      "metadata": {
        "id": "N-XSijy2ixGW"
      },
      "source": [
        "## Now What?"
      ]
    },
    {
      "cell_type": "markdown",
      "metadata": {
        "id": "kNPJcZUDd5R4"
      },
      "source": [
        "In this notebook, we have explored the Reddit API, and different sentiment analysis models. We have also been able to visualize our results. Using these ideas and the code as a foundation, we can turn this into something more accesible. For example, we can make a website where a user types in a subreddit and get a sentiment analysis back. We can make a cli to\n",
        " analyze subreddits in the command line."
      ]
    }
  ]
}